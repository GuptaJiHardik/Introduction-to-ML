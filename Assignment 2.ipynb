{
 "cells": [
  {
   "cell_type": "code",
   "execution_count": 1,
   "metadata": {},
   "outputs": [
    {
     "data": {
      "text/html": [
       "<div>\n",
       "<style scoped>\n",
       "    .dataframe tbody tr th:only-of-type {\n",
       "        vertical-align: middle;\n",
       "    }\n",
       "\n",
       "    .dataframe tbody tr th {\n",
       "        vertical-align: top;\n",
       "    }\n",
       "\n",
       "    .dataframe thead th {\n",
       "        text-align: right;\n",
       "    }\n",
       "</style>\n",
       "<table border=\"1\" class=\"dataframe\">\n",
       "  <thead>\n",
       "    <tr style=\"text-align: right;\">\n",
       "      <th></th>\n",
       "      <th>Student ID</th>\n",
       "      <th>Gender</th>\n",
       "      <th>Race/Ethnicity</th>\n",
       "      <th>Parent's Education Level</th>\n",
       "      <th>Lunch Type</th>\n",
       "      <th>Test Score</th>\n",
       "      <th>GPA</th>\n",
       "      <th>Absences</th>\n",
       "      <th>Extracurricular Activities</th>\n",
       "      <th>Graduated</th>\n",
       "    </tr>\n",
       "  </thead>\n",
       "  <tbody>\n",
       "    <tr>\n",
       "      <th>0</th>\n",
       "      <td>S1</td>\n",
       "      <td>Male</td>\n",
       "      <td>Caucasian</td>\n",
       "      <td>High School</td>\n",
       "      <td>Free/Reduced</td>\n",
       "      <td>75</td>\n",
       "      <td>3.2</td>\n",
       "      <td>10.0</td>\n",
       "      <td>Yes</td>\n",
       "      <td>Yes</td>\n",
       "    </tr>\n",
       "    <tr>\n",
       "      <th>1</th>\n",
       "      <td>S2</td>\n",
       "      <td>Female</td>\n",
       "      <td>African American</td>\n",
       "      <td>College</td>\n",
       "      <td>Paid</td>\n",
       "      <td>92</td>\n",
       "      <td>3.8</td>\n",
       "      <td>5.0</td>\n",
       "      <td>No</td>\n",
       "      <td>Yes</td>\n",
       "    </tr>\n",
       "    <tr>\n",
       "      <th>2</th>\n",
       "      <td>S3</td>\n",
       "      <td>Male</td>\n",
       "      <td>Hispanic</td>\n",
       "      <td>Graduate Degree</td>\n",
       "      <td>Paid</td>\n",
       "      <td>85</td>\n",
       "      <td>3.5</td>\n",
       "      <td>3.0</td>\n",
       "      <td>Yes</td>\n",
       "      <td>Yes</td>\n",
       "    </tr>\n",
       "    <tr>\n",
       "      <th>3</th>\n",
       "      <td>S4</td>\n",
       "      <td>Female</td>\n",
       "      <td>Asian</td>\n",
       "      <td>College</td>\n",
       "      <td>Paid</td>\n",
       "      <td>78</td>\n",
       "      <td>3.0</td>\n",
       "      <td>15.0</td>\n",
       "      <td>Yes</td>\n",
       "      <td>No</td>\n",
       "    </tr>\n",
       "    <tr>\n",
       "      <th>4</th>\n",
       "      <td>S5</td>\n",
       "      <td>Male</td>\n",
       "      <td>Caucasian</td>\n",
       "      <td>High School</td>\n",
       "      <td>Free/Reduced</td>\n",
       "      <td>65</td>\n",
       "      <td>2.7</td>\n",
       "      <td>20.0</td>\n",
       "      <td>No</td>\n",
       "      <td>No</td>\n",
       "    </tr>\n",
       "  </tbody>\n",
       "</table>\n",
       "</div>"
      ],
      "text/plain": [
       "  Student ID  Gender    Race/Ethnicity Parent's Education Level  ...  GPA  Absences  Extracurricular Activities  Graduated\n",
       "0         S1    Male         Caucasian              High School  ...  3.2      10.0                         Yes        Yes\n",
       "1         S2  Female  African American                  College  ...  3.8       5.0                          No        Yes\n",
       "2         S3    Male          Hispanic          Graduate Degree  ...  3.5       3.0                         Yes        Yes\n",
       "3         S4  Female             Asian                  College  ...  3.0      15.0                         Yes         No\n",
       "4         S5    Male         Caucasian              High School  ...  2.7      20.0                          No         No\n",
       "\n",
       "[5 rows x 10 columns]"
      ]
     },
     "execution_count": 1,
     "metadata": {},
     "output_type": "execute_result"
    }
   ],
   "source": [
    "#import the pandas library and aliasing as pd and create a dataframe for the \n",
    "#given dataset \n",
    "# Print first 5 rows of the dataframe \n",
    "import pandas as pd\n",
    "df_book = pd.read_excel(\"Book.xlsx\")\n",
    "df_book.head()"
   ]
  },
  {
   "cell_type": "code",
   "execution_count": 3,
   "metadata": {},
   "outputs": [
    {
     "data": {
      "text/plain": [
       "Index(['Student ID', 'Gender', 'Race/Ethnicity', 'Parent's Education Level',\n",
       "       'Lunch Type', 'Test Score', 'GPA', 'Absences',\n",
       "       'Extracurricular Activities', 'Graduated'],\n",
       "      dtype='object')"
      ]
     },
     "execution_count": 3,
     "metadata": {},
     "output_type": "execute_result"
    }
   ],
   "source": [
    "#Print the total number of  columns in the dataset\n",
    "df_book.columns"
   ]
  },
  {
   "cell_type": "code",
   "execution_count": 4,
   "metadata": {},
   "outputs": [
    {
     "name": "stdout",
     "output_type": "stream",
     "text": [
      "<class 'pandas.core.frame.DataFrame'>\n",
      "RangeIndex: 39 entries, 0 to 38\n",
      "Data columns (total 10 columns):\n",
      " #   Column                      Non-Null Count  Dtype  \n",
      "---  ------                      --------------  -----  \n",
      " 0   Student ID                  39 non-null     object \n",
      " 1   Gender                      35 non-null     object \n",
      " 2   Race/Ethnicity              38 non-null     object \n",
      " 3   Parent's Education Level    37 non-null     object \n",
      " 4   Lunch Type                  38 non-null     object \n",
      " 5   Test Score                  39 non-null     int64  \n",
      " 6   GPA                         39 non-null     float64\n",
      " 7   Absences                    37 non-null     float64\n",
      " 8   Extracurricular Activities  36 non-null     object \n",
      " 9   Graduated                   38 non-null     object \n",
      "dtypes: float64(2), int64(1), object(7)\n",
      "memory usage: 3.2+ KB\n"
     ]
    }
   ],
   "source": [
    "#Print the data type of each column and its missing information if any.\n",
    "df_book.info()"
   ]
  },
  {
   "cell_type": "code",
   "execution_count": null,
   "metadata": {},
   "outputs": [],
   "source": [
    "#Create filter to identify the missing data in the columns\n"
   ]
  },
  {
   "cell_type": "code",
   "execution_count": null,
   "metadata": {},
   "outputs": [],
   "source": [
    "#Use SimpleImputer to fill the missing values in the dataset"
   ]
  },
  {
   "cell_type": "code",
   "execution_count": null,
   "metadata": {},
   "outputs": [],
   "source": [
    "#Use any other classes for missing data, outliers, etc. if required."
   ]
  },
  {
   "cell_type": "code",
   "execution_count": 5,
   "metadata": {},
   "outputs": [],
   "source": [
    "#Use Label Encoder to encode labels with value between 0 and n_classes-1 for the \n",
    "#gender column in the dataset."
   ]
  },
  {
   "cell_type": "code",
   "execution_count": null,
   "metadata": {},
   "outputs": [],
   "source": [
    "#Use OneHotEncoder to encode the categorical features-'Lunch Type' in the dataset."
   ]
  },
  {
   "cell_type": "code",
   "execution_count": null,
   "metadata": {},
   "outputs": [],
   "source": [
    "#Use standard scaling to normalize the dataset for the columns-Test Scores and GPA."
   ]
  },
  {
   "cell_type": "code",
   "execution_count": null,
   "metadata": {},
   "outputs": [],
   "source": [
    "#Use MinMAXScaler to scale the data inthe range 0-1, in column Absence. "
   ]
  },
  {
   "cell_type": "code",
   "execution_count": null,
   "metadata": {},
   "outputs": [],
   "source": [
    "#Divide teh data into training and testing sets using train_test_split"
   ]
  },
  {
   "cell_type": "code",
   "execution_count": 6,
   "metadata": {},
   "outputs": [],
   "source": [
    "#Use any other classes from the sklearn documentation and applied to your dataset."
   ]
  },
  {
   "cell_type": "code",
   "execution_count": 1,
   "metadata": {},
   "outputs": [],
   "source": [
    "#Save your final processed data in a excel file named 'final_data.xlsx'."
   ]
  }
 ],
 "metadata": {
  "kernelspec": {
   "display_name": "Python 3 (ipykernel)",
   "language": "python",
   "name": "python3"
  },
  "language_info": {
   "codemirror_mode": {
    "name": "ipython",
    "version": 3
   },
   "file_extension": ".py",
   "mimetype": "text/x-python",
   "name": "python",
   "nbconvert_exporter": "python",
   "pygments_lexer": "ipython3",
   "version": "3.11.4"
  }
 },
 "nbformat": 4,
 "nbformat_minor": 2
}
